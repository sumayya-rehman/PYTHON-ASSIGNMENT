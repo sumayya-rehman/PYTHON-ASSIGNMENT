{
 "cells": [
  {
   "cell_type": "markdown",
   "metadata": {},
   "source": [
    "# ASSIGNMENT NO 05"
   ]
  },
  {
   "cell_type": "code",
   "execution_count": 10,
   "metadata": {},
   "outputs": [
    {
     "name": "stdout",
     "output_type": "stream",
     "text": [
      "enter any number 4\n",
      "answer is 24\n"
     ]
    }
   ],
   "source": [
    "#QUESTION NO : 01\n",
    "#WRITE A PYTHON FUNCTION TO CALCULATE THE FACTORIAL OF A NUMBER?\n",
    "n=int(input('enter any number'))\n",
    "a=1\n",
    "for i in range(1,n+1):\n",
    "    a=a*i\n",
    "print('answer is',a)"
   ]
  },
  {
   "cell_type": "code",
   "execution_count": 22,
   "metadata": {},
   "outputs": [
    {
     "name": "stdout",
     "output_type": "stream",
     "text": [
      "enter string c\n",
      "total lower case letters are 1\n"
     ]
    }
   ],
   "source": [
    "#QUESTION NO: 02\n",
    "#WRITE THE PYTHON FUNCTION THAT CALCULATE THE NO OF UPPER AND LOWER CASE LETTERS?\n",
    "n=input('enter string')\n",
    "a=0\n",
    "b=0\n",
    "if n.isupper():\n",
    "    a+=1\n",
    "    print('total upper case letters are',a)\n",
    "elif n.islower():\n",
    "    b+=1\n",
    "    print('total lower case letters are',b)"
   ]
  },
  {
   "cell_type": "code",
   "execution_count": 34,
   "metadata": {},
   "outputs": [
    {
     "name": "stdout",
     "output_type": "stream",
     "text": [
      "the number is even 2 the number is even 4 the number is even 6 the number is even 8 "
     ]
    }
   ],
   "source": [
    "#QUESTION NO:03\n",
    "#WRITE PYTHON FUNCTION TO PRINT THE EVEN NUMBER FROM THE LIST?\n",
    "my_list=[1,2,3,4,5,6,7,8]\n",
    "for num in my_list:\n",
    "    if num%2==0:\n",
    "        print('the number is even',num,end=\" \")"
   ]
  },
  {
   "cell_type": "code",
   "execution_count": 35,
   "metadata": {},
   "outputs": [
    {
     "name": "stdout",
     "output_type": "stream",
     "text": [
      "s\n",
      "as\n",
      "aas\n",
      "saas\n",
      "passed string is palindrom\n"
     ]
    }
   ],
   "source": [
    "#QUESTION NO: 04\n",
    "#CHECK WHEATHER THE PASSED STRING IS PALINDROME OR NOT?\n",
    "x='saas'\n",
    "y=''\n",
    "for i in x:\n",
    "    y=i+y\n",
    "    print(y)\n",
    "    if (x==y):\n",
    "        print(\"passed string is palindrom\")"
   ]
  },
  {
   "cell_type": "code",
   "execution_count": 37,
   "metadata": {},
   "outputs": [
    {
     "name": "stdout",
     "output_type": "stream",
     "text": [
      "enter any number 27\n",
      "no is not a prime number\n"
     ]
    }
   ],
   "source": [
    "#QUESTION NO: 05\n",
    "#CHECK NO IS PRIME OR NOT?\n",
    "a=int(input('enter any number'))\n",
    "for i in range(2,num):\n",
    "    if num%i ==0:\n",
    "        print(\"no is not a prime number\")\n",
    "        break\n",
    "    else:\n",
    "        print(\"no is aprime number\")"
   ]
  },
  {
   "cell_type": "code",
   "execution_count": 43,
   "metadata": {},
   "outputs": [
    {
     "name": "stdout",
     "output_type": "stream",
     "text": [
      "\n",
      " enter the items you bought \n",
      " if you leave enter'quit': pen\n",
      "\n",
      " enter the items you bought \n",
      " if you leave enter'quit': pencil\n",
      "\n",
      " enter the items you bought \n",
      " if you leave enter'quit': quit\n",
      "\n",
      "   shopping list   \n",
      "items you bought are ['pen', 'pencil']\n"
     ]
    }
   ],
   "source": [
    "#QUESTION NO:06\n",
    "#FUNCTION THAT ACCEPTS MULTIPLE ARGUMENTS  AS USER SHOPPING ITEMS AND PRINT ALL?\n",
    "def customer_shopping(*shopping_list):\n",
    "    print(\"\\n   shopping list   \")\n",
    "    for element in shopping_list:\n",
    "        print(\"items you bought are\",element)\n",
    "shopping_list=[]\n",
    "while True:\n",
    "    items=input(\"\\n enter the items you bought \\n if you leave enter'quit': \")\n",
    "    if items== 'quit':\n",
    "        break\n",
    "    shopping_list.append(items)\n",
    "customer_shopping(shopping_list)\n",
    "        \n",
    "        "
   ]
  },
  {
   "cell_type": "code",
   "execution_count": null,
   "metadata": {},
   "outputs": [],
   "source": []
  }
 ],
 "metadata": {
  "kernelspec": {
   "display_name": "Python 3",
   "language": "python",
   "name": "python3"
  },
  "language_info": {
   "codemirror_mode": {
    "name": "ipython",
    "version": 3
   },
   "file_extension": ".py",
   "mimetype": "text/x-python",
   "name": "python",
   "nbconvert_exporter": "python",
   "pygments_lexer": "ipython3",
   "version": "3.7.4"
  }
 },
 "nbformat": 4,
 "nbformat_minor": 2
}
