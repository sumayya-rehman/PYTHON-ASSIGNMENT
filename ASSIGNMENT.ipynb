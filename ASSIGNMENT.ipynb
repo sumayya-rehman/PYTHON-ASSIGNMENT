{
 "cells": [
  {
   "cell_type": "code",
   "execution_count": 1,
   "metadata": {},
   "outputs": [
    {
     "name": "stdout",
     "output_type": "stream",
     "text": [
      "         How I wonder what you are!\n",
      "     Up above the world so high, Like a diamond in the\n",
      "                        sky. Twinkle, twinkle,little star,\n",
      "        How I wonder what you are \n"
     ]
    }
   ],
   "source": [
    "# print(\"Twinkle, twinkle, little star,\")\n",
    "print(\"         How I wonder what you are!\")\n",
    "print(\"     Up above the world so high, Like a diamond in the\")\n",
    "print(\"                        sky. Twinkle, twinkle,little star,\")\n",
    "print(\"        How I wonder what you are \")\n"
   ]
  },
  {
   "cell_type": "code",
   "execution_count": 2,
   "metadata": {},
   "outputs": [
    {
     "name": "stdout",
     "output_type": "stream",
     "text": [
      "python version\n",
      "3.7.4 (default, Aug  9 2019, 18:34:13) [MSC v.1915 64 bit (AMD64)]\n",
      "version info.\n",
      "sys.version_info(major=3, minor=7, micro=4, releaselevel='final', serial=0)\n"
     ]
    }
   ],
   "source": [
    "import sys\n",
    "print(\"python version\")\n",
    "print(sys.version)\n",
    "print(\"version info.\")\n",
    "print(sys.version_info)\n"
   ]
  },
  {
   "cell_type": "code",
   "execution_count": 3,
   "metadata": {},
   "outputs": [
    {
     "name": "stdout",
     "output_type": "stream",
     "text": [
      "2019-11-05 22:40:08.833353\n"
     ]
    }
   ],
   "source": [
    "import datetime\n",
    "print(datetime.datetime.now())\n"
   ]
  },
  {
   "cell_type": "code",
   "execution_count": 4,
   "metadata": {},
   "outputs": [
    {
     "name": "stdout",
     "output_type": "stream",
     "text": [
      "enter radius 3\n",
      "the area of circle is= 28.274333882308138\n"
     ]
    }
   ],
   "source": [
    "from math import pi\n",
    "r=float(input(\"enter radius\"))\n",
    "a=pi*r**2\n",
    "print(\"the area of circle is=\",a)\n"
   ]
  },
  {
   "cell_type": "code",
   "execution_count": 5,
   "metadata": {},
   "outputs": [
    {
     "name": "stdout",
     "output_type": "stream",
     "text": [
      "write first name SARA \n",
      "write last name REHMAN  \n",
      " REHMAN   SARA \n"
     ]
    }
   ],
   "source": [
    "first_name=input(\"write first name\")\n",
    "last_name=input(\"write last name\")\n",
    "print(last_name+first_name)\n"
   ]
  },
  {
   "cell_type": "code",
   "execution_count": 6,
   "metadata": {},
   "outputs": [
    {
     "name": "stdout",
     "output_type": "stream",
     "text": [
      "enter first no 5\n",
      "enter second number 10\n",
      "addition of two numbers is= 15\n"
     ]
    }
   ],
   "source": [
    "a=input(\"enter first no\")\n",
    "b=input(\"enter second number\")\n",
    "c=int(a)+int(b)\n",
    "print(\"addition of two numbers is=\",c)\n"
   ]
  },
  {
   "cell_type": "code",
   "execution_count": null,
   "metadata": {},
   "outputs": [],
   "source": []
  }
 ],
 "metadata": {
  "kernelspec": {
   "display_name": "Python 3",
   "language": "python",
   "name": "python3"
  },
  "language_info": {
   "codemirror_mode": {
    "name": "ipython",
    "version": 3
   },
   "file_extension": ".py",
   "mimetype": "text/x-python",
   "name": "python",
   "nbconvert_exporter": "python",
   "pygments_lexer": "ipython3",
   "version": "3.7.4"
  }
 },
 "nbformat": 4,
 "nbformat_minor": 2
}
