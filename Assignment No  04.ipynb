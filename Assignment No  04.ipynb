{
 "cells": [
  {
   "cell_type": "markdown",
   "metadata": {},
   "source": [
    "# ASSIGNMENT NO: 04"
   ]
  },
  {
   "cell_type": "code",
   "execution_count": 12,
   "metadata": {},
   "outputs": [
    {
     "name": "stdout",
     "output_type": "stream",
     "text": [
      "{'first_name': 'mohammad', 'last_name': 'ahmad', 'age': 19, 'city': 'karachi'}\n",
      "{'first_name': 'mohammad', 'last_name': 'ahmad', 'age': 19, 'city': 'karachi', 'qualification': 'inter'}\n",
      "{'first_name': 'mohammad', 'last_name': 'ahmad', 'age': 19, 'city': 'karachi', 'qualification': 'undergraduate'}\n",
      "{'first_name': 'mohammad', 'last_name': 'ahmad', 'age': 19, 'city': 'karachi'}\n",
      "# final information stored in dictionary are:\n",
      "first_name\n",
      "last_name\n",
      "age\n",
      "city\n",
      "mohammad\n",
      "ahmad\n",
      "19\n",
      "karachi\n"
     ]
    }
   ],
   "source": [
    "# QUESTION NO:01\n",
    "#Use a dictionary to store information about a person you know. Store their first name, last name, age,and the city in\n",
    "#which they live. You should have keys such as first_name, last_name, age, and city. Print each piece of information stored \n",
    "#in your dictionary. Add a new key value pair about qualification then update the qualification value to high academic\n",
    "#level then delete it.\n",
    "mydict={\n",
    "    \"first_name\" : \"mohammad\",\n",
    "    \"last_name\"  : \"ahmad\",\n",
    "    \"age\"        :  19,\n",
    "    \"city\"       : \"karachi\"}\n",
    "print(mydict)\n",
    "mydict[\"qualification\"] = \"inter\"\n",
    "print(mydict)\n",
    "mydict.update(qualification = \"undergraduate\")\n",
    "print(mydict)\n",
    "del mydict[\"qualification\"]\n",
    "print (mydict)\n",
    "print(\"# final information stored in dictionary are:\")\n",
    "for each_piece in mydict.keys():\n",
    "    print(each_piece)\n",
    "for each_piece in mydict.values():\n",
    "    print(each_piece)"
   ]
  },
  {
   "cell_type": "code",
   "execution_count": 13,
   "metadata": {},
   "outputs": [
    {
     "name": "stdout",
     "output_type": "stream",
     "text": [
      " karachi : {'country': 'pakistan', 'population': '8 million', 'fact': 'lovely people'}\n",
      " makka   : {'country': 'pakistan', 'population': '8 million', 'fact': 'lovely people'}\n",
      " istambol: {'country': 'pakistan', 'population': '8 million', 'fact': 'lovely people'}\n"
     ]
    }
   ],
   "source": [
    "#QUESTION NO :02\n",
    "#Make a dictionary called cities. Use the names of three cities as keys in your dictionary. Create a dictionary of \n",
    "#information about each city and include the country that the city is in, its approximate population, and one fact about \n",
    "#that city. The keys for each city’s dictionary should be something like country, population, and fact. Print the name\n",
    "#of each city and all of the information you have stored about it.\n",
    "cities = {\n",
    "    \"karachi\" : {\"country\" : \"pakistan\" , \"population\" : \"8 million\" , \"fact\" : \"lovely people\"} ,\n",
    "    \"makkah\"  : {\"country\" : \"saudia arabia\" , \"population\" : \"5 million\" , \"fact\" : \"house of allah is there\"}  ,\n",
    "    \"istambol\": {\"country\" : \"turkry\" , \"population\" : \"4 million\" , \"fact\" : \"humble peoples\"}\n",
    "}\n",
    "print(\" karachi :\",cities [\"karachi\"])\n",
    "print(\" makka   :\",cities [\"karachi\"])\n",
    "print(\" istambol:\",cities [\"karachi\"])"
   ]
  },
  {
   "cell_type": "code",
   "execution_count": 18,
   "metadata": {},
   "outputs": [
    {
     "name": "stdout",
     "output_type": "stream",
     "text": [
      "CHARGES FOR TICKETS OF MOVIE THEATER DEPENDING ON PERSON'S AGE ARE=/n\n",
      "AGE is: 11\n",
      "The ticket is of 10$\n"
     ]
    }
   ],
   "source": [
    "#QUESTION NO :03\n",
    "#A movie theater charges different ticket prices depending on a person’s age. If a person is under the age of 3,\n",
    "#the ticket is free; if they are between 3 and 12, the ticket is $10; and if they are over age 12, the ticket is $15. \n",
    "#Write a loop in which you ask users their age, and then tell them the cost of their movie ticket.\n",
    "print(\"CHARGES FOR TICKETS OF MOVIE THEATER DEPENDING ON PERSON'S AGE ARE=/n\")\n",
    "age= int(input('AGE is:'))\n",
    "if (age==3):\n",
    "    print(\"The Ticket is free\")\n",
    "elif (age>3):\n",
    "    print(\"The ticket is of 10$\")\n",
    "elif (age<12):\n",
    "    print(\"The ticket is of 10$\")\n",
    "elif (age>12):\n",
    "    print(\"The ticket is of 15$\")\n",
    "else :\n",
    "    print(\"The ticket is not available\")\n",
    "    \n"
   ]
  },
  {
   "cell_type": "code",
   "execution_count": 23,
   "metadata": {},
   "outputs": [
    {
     "name": "stdout",
     "output_type": "stream",
     "text": [
      "NAME OF  FAVORITE BOOK IS=  QURAN\n",
      "my favorite book is written above \n"
     ]
    }
   ],
   "source": [
    "# QUESTION NO : 04\n",
    "#Write a function called favorite_book() that accepts one parameter, title. The function should print a message, such as \n",
    "#One of my favorite books is Alice in Wonderland. Call the function, making sure to include a book title as an argument\n",
    "#in the function call.\n",
    "title=input(\"NAME OF  FAVORITE BOOK IS= \")\n",
    "def favorite_book(title):\n",
    "    print(\"my favorite book is written above \")\n",
    "favorite_book(title)    \n"
   ]
  },
  {
   "cell_type": "code",
   "execution_count": 32,
   "metadata": {},
   "outputs": [
    {
     "name": "stdout",
     "output_type": "stream",
     "text": [
      "Guess a number between 1 and 30. You have 3 rounds to try and guess correctly.\n",
      "Enter an integer:  15\n",
      "Try Lower\n",
      "Enter an integer: 7\n",
      "Try Lower\n",
      "Enter an integer: 5\n",
      "Try Lower\n",
      "You didn't guess correctly in 3 rounds. You lost.\n"
     ]
    }
   ],
   "source": [
    "# QUESTION NO: 05\n",
    "# Guess the number game Write a program which randomly generate a number between 1 to 30 and ask the user in input \n",
    "#field to guess the correct number. Give three chances to user guess the number and also give hint to user if\n",
    "#hidden number is greater or smaller than the number he given to input field.\n",
    "import random\n",
    "\n",
    "def number_guessing_game(low, high, rounds):\n",
    "    print(\"Guess a number between {low} and {high}. You have {rounds} rounds to try and guess correctly.\".format(low=low, high=high, rounds=rounds))\n",
    "    number = random.randint(low, high)\n",
    "\n",
    "    for _ in range(rounds):\n",
    "        guess = input(\"Enter an integer: \")\n",
    "\n",
    "        try:\n",
    "            integer = int(guess)\n",
    "            if integer == number:\n",
    "                print('You won!!!')\n",
    "                return\n",
    "            elif integer < number:\n",
    "                print('Try Higher')\n",
    "            elif integer > number:\n",
    "                print('Try Lower')\n",
    "\n",
    "        except ValueError:\n",
    "            print(\"You must enter a valid integer.\")\n",
    "\n",
    "    print(\"You didn't guess correctly in {rounds} rounds. You lost.\".format(rounds=rounds))\n",
    "\n",
    "number_guessing_game(1, 30, 3)"
   ]
  },
  {
   "cell_type": "code",
   "execution_count": null,
   "metadata": {},
   "outputs": [],
   "source": []
  }
 ],
 "metadata": {
  "kernelspec": {
   "display_name": "Python 3",
   "language": "python",
   "name": "python3"
  },
  "language_info": {
   "codemirror_mode": {
    "name": "ipython",
    "version": 3
   },
   "file_extension": ".py",
   "mimetype": "text/x-python",
   "name": "python",
   "nbconvert_exporter": "python",
   "pygments_lexer": "ipython3",
   "version": "3.7.4"
  }
 },
 "nbformat": 4,
 "nbformat_minor": 2
}
