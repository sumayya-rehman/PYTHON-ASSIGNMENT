{
 "cells": [
  {
   "cell_type": "markdown",
   "metadata": {},
   "source": [
    "# ASSIGNMENT NO:06"
   ]
  },
  {
   "cell_type": "markdown",
   "metadata": {},
   "source": [
    "# Question no:1\n",
    "\n",
    "OBJECT ORIENTED PROGRAMMING LANGUAGE:\n",
    "\n",
    "A object oriented programming language is a high level programming language based on the object-oriented model. it is a way of writing  computer programms using the idea of objects to represent data or methods."
   ]
  },
  {
   "cell_type": "markdown",
   "metadata": {},
   "source": [
    "# QUESTION NO:2\n",
    "BENEFITS OF OOP LANGUAGE:\n",
    "\n",
    "1)Program are easy to understand.\n",
    "\n",
    "2)Easy re-use: objects maintain themselves.\n",
    "\n",
    "3)it is obvious to map to real world."
   ]
  },
  {
   "cell_type": "markdown",
   "metadata": {},
   "source": [
    "# QUESTION NO:3 \"DIFFERENCE BETWEEN FUNCTION AND METHOD\"\n",
    "\n",
    "FUNCTION:\n",
    "\n",
    "A function is a block of code to carry out some specific task,will contain its own scope and is called by name,                \n",
    "all fuctions may contain zero or more than one argumants,                                                                      \n",
    "on exit function can or can not reuturn one or more values.                                                                                                                                                                                                  \n",
    "\n",
    "METHOD:                                                                                                                        \n",
    "\n",
    "A method in python is some what similar to function except it is associated with object or classes,                                                        the method is an implicity used for an object for which it is called,                                                          the method is accessible to data that is contained with in the class. \n"
   ]
  },
  {
   "cell_type": "markdown",
   "metadata": {},
   "source": [
    "# QUESTION NO:4\n",
    "CLASS:                                                                                                                        A class is acode template for creating objects.\n",
    "\n",
    "OBJECT:                                                                                                                        A object is simply a collection of data, varaibles and methods or function that act on those data.                             \n",
    "\n",
    "ATTRIBUTE:                                                                                                                      A instance attribute is a python variable belonging to one and only one object, while class attribute is a python variable that belongs to a class rather than a particular object.                                                                       \n",
    "\n",
    "BEHAVIOUR:                                                                                                                      A behaviour provides a language suitable for behaviour driven development."
   ]
  },
  {
   "cell_type": "markdown",
   "metadata": {},
   "source": [
    "# QUESTION NO:5"
   ]
  },
  {
   "cell_type": "code",
   "execution_count": 2,
   "metadata": {},
   "outputs": [
    {
     "name": "stdout",
     "output_type": "stream",
     "text": [
      "Wish\n",
      "2004\n",
      "silver\n",
      "toyota\n",
      "5\n"
     ]
    }
   ],
   "source": [
    "class Car():\n",
    "    def __init__(self,name,model,colour):\n",
    "        self.name   = name\n",
    "        self.model  = model\n",
    "        self.colour = colour\n",
    "    def manufacturer(self):\n",
    "        print(\"toyota\")\n",
    "    def doors(self):\n",
    "        print(5)\n",
    "Mycar = Car('Wish',2004,\"silver\")\n",
    "print(Mycar.name)\n",
    "print(Mycar.model)\n",
    "print(Mycar.colour)\n",
    "Mycar.manufacturer()\n",
    "Mycar.doors()"
   ]
  },
  {
   "cell_type": "code",
   "execution_count": null,
   "metadata": {},
   "outputs": [],
   "source": []
  }
 ],
 "metadata": {
  "kernelspec": {
   "display_name": "Python 3",
   "language": "python",
   "name": "python3"
  },
  "language_info": {
   "codemirror_mode": {
    "name": "ipython",
    "version": 3
   },
   "file_extension": ".py",
   "mimetype": "text/x-python",
   "name": "python",
   "nbconvert_exporter": "python",
   "pygments_lexer": "ipython3",
   "version": "3.7.4"
  }
 },
 "nbformat": 4,
 "nbformat_minor": 2
}
